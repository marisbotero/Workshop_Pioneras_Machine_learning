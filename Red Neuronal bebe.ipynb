{
 "cells": [
  {
   "cell_type": "markdown",
   "metadata": {},
   "source": [
    "# ⭐Machine Learning 👩‍🏫"
   ]
  },
  {
   "cell_type": "markdown",
   "metadata": {},
   "source": [
    "💙🧡💚🤓"
   ]
  },
  {
   "cell_type": "markdown",
   "metadata": {},
   "source": [
    "¿Alguna ves has escuchado el término de machine learning o aprendizaje automático?, ¿Es algo que está de moda? ¿Realmente es útil? ¿Es para científicos y súper computadoras?🤔.  El machine learning es una disciplina ligada a la inteligencia artificial y a la estadística que le permite a nuestros ordenadores aprender a resolver problemas sin ser explícitamente programados para ello. El resultado que obtenemos con machine learning son algoritmos capaces de hacer predicciones y tomar decisiones sin programación previa y con datos que no han visto nunca. 😮🤖\n",
    "\n",
    "Vamos a crear un juego de piedra, papel o tijeras entrenando una red neuronal, la cual aprenderá a juegar y a ganar. Con este pequeño tutorial veras que con algunas herramientas ya estarás entrenado tu primer algoritmo de aprendizaje automático. "
   ]
  },
  {
   "cell_type": "markdown",
   "metadata": {},
   "source": [
    "### Creamos una lista para las opciones de nuestro juego 🎲\n",
    "\n",
    "\n",
    "\n",
    "Una lista es una estructura de datos, los cuales pueden ser compuestos pero su cantidad no varía a lo largo del tiempo. La notación para lista es una secuencia de valores encerrados entre corchetes y separados por comas. Para nuestro caso tenemos una lista de opciones del juego."
   ]
  },
  {
   "cell_type": "code",
   "execution_count": 1,
   "metadata": {},
   "outputs": [],
   "source": [
    "options = [\"piedra\", \"tijeras\", \"papel\"]"
   ]
  },
  {
   "cell_type": "markdown",
   "metadata": {},
   "source": [
    "Hacemos una pequeña función donde escribimos las reglas del juego, Tenemos dos jugadores llamados p1 y p2 y vamos a ver cuáles son las opciones para ganar."
   ]
  },
  {
   "cell_type": "code",
   "execution_count": 2,
   "metadata": {},
   "outputs": [],
   "source": [
    "def search_winner(p1, p2):\n",
    "    if p1 == p2:\n",
    "        result = 0\n",
    "    \n",
    "    elif p1 == \"piedra\" and p2 == \"tijeras\":\n",
    "        result = 1\n",
    "    elif p1 == \"piedra\" and p2 == \"papel\":\n",
    "        result = 2\n",
    "    elif p1 == \"tijeras\" and p2 == \"piedra\":\n",
    "        result = 2\n",
    "    elif p1 == \"tijeras\" and p2 == \"papel\":\n",
    "        result = 1\n",
    "    elif p1 == \"papel\" and p2 == \"piedra\":\n",
    "        result = 1\n",
    "    elif p1 == \"papel\" and p2 == \"tijeras\":\n",
    "        result = 2\n",
    "        \n",
    "    return result"
   ]
  },
  {
   "cell_type": "markdown",
   "metadata": {},
   "source": [
    "Probamos de la función que acabamos de crear  y vemos el resultado"
   ]
  },
  {
   "cell_type": "code",
   "execution_count": 3,
   "metadata": {},
   "outputs": [
    {
     "data": {
      "text/plain": [
       "2"
      ]
     },
     "execution_count": 3,
     "metadata": {},
     "output_type": "execute_result"
    }
   ],
   "source": [
    "\n",
    "\n",
    "search_winner(\"papel\", \"tijeras\")\n",
    "\n"
   ]
  },
  {
   "cell_type": "code",
   "execution_count": 4,
   "metadata": {},
   "outputs": [
    {
     "data": {
      "text/plain": [
       "0"
      ]
     },
     "execution_count": 4,
     "metadata": {},
     "output_type": "execute_result"
    }
   ],
   "source": [
    "search_winner(\"tijeras\",\"tijeras\")"
   ]
  },
  {
   "cell_type": "markdown",
   "metadata": {},
   "source": [
    "⚡Creamos  un pequeño test, para seguir haciendo pruebas. Además hacemos una iteración y pintamos la validación del test"
   ]
  },
  {
   "cell_type": "code",
   "execution_count": 6,
   "metadata": {},
   "outputs": [
    {
     "name": "stdout",
     "output_type": "stream",
     "text": [
      "player1: piedra player2: piedra Winner: 0 Validation: 0\n",
      "player1: piedra player2: tijeras Winner: 1 Validation: 1\n",
      "player1: piedra player2: papel Winner: 2 Validation: 2\n"
     ]
    }
   ],
   "source": [
    "\n",
    "\n",
    "test = [\n",
    "    [\"piedra\", \"piedra\", 0],\n",
    "    [\"piedra\", \"tijeras\", 1],\n",
    "    [\"piedra\", \"papel\", 2]\n",
    "]\n",
    "\n",
    "for partida in test:\n",
    "    print(\"player1: %s player2: %s Winner: %s Validation: %s\" % (\n",
    "        partida[0], partida[1], search_winner(partida[0], partida[1]), partida[2]\n",
    "    ))\n",
    "    "
   ]
  },
  {
   "cell_type": "markdown",
   "metadata": {},
   "source": [
    "⚡Después, se crea una pequeña función que sea random, para el jugador 1 y el jugador 2"
   ]
  },
  {
   "cell_type": "code",
   "execution_count": 7,
   "metadata": {},
   "outputs": [],
   "source": [
    "from random import choice\n",
    "def get_choice():\n",
    "    return choice(options)"
   ]
  },
  {
   "cell_type": "markdown",
   "metadata": {},
   "source": [
    "⚡Una pequeña prueba, para ver nuestros resultados con la función random"
   ]
  },
  {
   "cell_type": "code",
   "execution_count": 8,
   "metadata": {},
   "outputs": [
    {
     "name": "stdout",
     "output_type": "stream",
     "text": [
      "player1: tijeras player2: papel Winner: 1 \n",
      "player1: tijeras player2: piedra Winner: 2 \n",
      "player1: papel player2: tijeras Winner: 2 \n",
      "player1: papel player2: papel Winner: 0 \n",
      "player1: tijeras player2: tijeras Winner: 0 \n",
      "player1: piedra player2: papel Winner: 2 \n",
      "player1: piedra player2: tijeras Winner: 1 \n",
      "player1: piedra player2: piedra Winner: 0 \n",
      "player1: piedra player2: tijeras Winner: 1 \n",
      "player1: tijeras player2: papel Winner: 1 \n"
     ]
    }
   ],
   "source": [
    "for i in range(10):\n",
    "    player1 = get_choice()\n",
    "    player2 = get_choice()\n",
    "    print(\"player1: %s player2: %s Winner: %s \" % (\n",
    "        player1, player2, search_winner(player1, player2)\n",
    "    ))"
   ]
  },
  {
   "cell_type": "markdown",
   "metadata": {},
   "source": [
    "# Red Neuronal 🧠\n",
    "\n",
    "Empecemos con nuestra red neuronal, vamos a hacer una función que convierta los string a una lista de ceros y uno para que nuestra red neuronal entienda mejor. Donde la piedra es [1,0,0], si es tijeras es [0,1,0] y si es papel es [0,0,1].\n",
    "Imagínate que las maquinas se hablan entre ellas y a esto se le denomina lenguaje de maquina o código de máquina, este lenguaje es una serie de instrucciones en forma de ceros y unos las cuales se ejecutan de manera secuencial. \n",
    "                    👩‍💻"
   ]
  },
  {
   "cell_type": "code",
   "execution_count": 9,
   "metadata": {},
   "outputs": [
    {
     "name": "stdout",
     "output_type": "stream",
     "text": [
      "[[1, 0, 0], [0, 1, 0], [0, 0, 1]]\n",
      "[[0, 0, 1], [1, 0, 0], [0, 1, 0]]\n"
     ]
    }
   ],
   "source": [
    "def str_to_list(option):\n",
    "    if option==\"piedra\":\n",
    "        res = [1,0,0]\n",
    "    elif option==\"tijeras\":\n",
    "        res = [0,1,0]\n",
    "    else:\n",
    "        res = [0,0,1]\n",
    "    return res\n",
    "\n",
    "data_X = list(map(str_to_list, [\"piedra\", \"tijeras\", \"papel\"]))\n",
    "data_y = list(map(str_to_list, [\"papel\", \"piedra\", \"tijeras\"]))\n",
    "\n",
    "print(data_X)\n",
    "print(data_y)"
   ]
  },
  {
   "cell_type": "markdown",
   "metadata": {},
   "source": [
    "⚡Ahora vamos a empezar con la red neuronal. Importamos la libreria scikit-learn.\n",
    "\n",
    "Scikit-learn es una librería ideal para diseñar y entrenar redes neuronales, esta librería es usada por spotify, Evernote y utiliza algoritmos de clasificación, regresión y agrupamiento.\n",
    "\n",
    "📍http://scikit-learn.org/stable/"
   ]
  },
  {
   "cell_type": "code",
   "execution_count": 10,
   "metadata": {},
   "outputs": [],
   "source": [
    "from sklearn.neural_network import MLPClassifier"
   ]
  },
  {
   "cell_type": "code",
   "execution_count": 11,
   "metadata": {},
   "outputs": [],
   "source": [
    "clf = MLPClassifier(verbose=False, warm_start=True)"
   ]
  },
  {
   "cell_type": "code",
   "execution_count": 12,
   "metadata": {},
   "outputs": [
    {
     "name": "stdout",
     "output_type": "stream",
     "text": [
      "MLPClassifier(activation='relu', alpha=0.0001, batch_size='auto', beta_1=0.9,\n",
      "       beta_2=0.999, early_stopping=False, epsilon=1e-08,\n",
      "       hidden_layer_sizes=(100,), learning_rate='constant',\n",
      "       learning_rate_init=0.001, max_iter=200, momentum=0.9,\n",
      "       nesterovs_momentum=True, power_t=0.5, random_state=None,\n",
      "       shuffle=True, solver='adam', tol=0.0001, validation_fraction=0.1,\n",
      "       verbose=False, warm_start=True)\n"
     ]
    },
    {
     "name": "stderr",
     "output_type": "stream",
     "text": [
      "C:\\Users\\W\\Anaconda3\\lib\\site-packages\\sklearn\\neural_network\\multilayer_perceptron.py:564: ConvergenceWarning: Stochastic Optimizer: Maximum iterations (200) reached and the optimization hasn't converged yet.\n",
      "  % self.max_iter, ConvergenceWarning)\n"
     ]
    }
   ],
   "source": [
    "model = clf.fit([data_X[0]], [data_y[0]])\n",
    "print(model)"
   ]
  },
  {
   "cell_type": "markdown",
   "metadata": {},
   "source": [
    "⚡Hacemos una función jugar a aprender. La idea es que nuestra red neuronal empiece a aprender a ganar por medio de la experiencia.  En la función definimos la predicción que debe ser igual o superior al 95%.  "
   ]
  },
  {
   "cell_type": "code",
   "execution_count": 13,
   "metadata": {},
   "outputs": [],
   "source": [
    "def play_and_learn(iters=10, debug=False):\n",
    "    score = {\"win\": 0, \"loose\": 0}\n",
    "    \n",
    "    data_X = []\n",
    "    data_y = []\n",
    "    \n",
    "    for i in range(iters):\n",
    "        player1 = get_choice()\n",
    "        \n",
    "        predict = model.predict_proba([str_to_list(player1)])[0]\n",
    "        \n",
    "        if predict[0] >= 0.95:\n",
    "            player2 = options[0]\n",
    "        elif predict[1] >= 0.95:\n",
    "            player2 = options[1]\n",
    "        elif predict[2] >= 0.95:\n",
    "            player2 = options[2]\n",
    "        else:\n",
    "            player2 = get_choice()\n",
    "            \n",
    "        if debug==True:\n",
    "            print(\"Player1: %s Player2 (modelo): %s --> %s\" % (player1, predict, player2))\n",
    "        \n",
    "        winner = search_winner(player1, player2)\n",
    "        if debug==True:\n",
    "            print(\"Comprobamos: p1 VS p2: %s\" % winner)\n",
    "        \n",
    "        if winner==2:\n",
    "            data_X.append(str_to_list(player1))\n",
    "            data_y.append(str_to_list(player2))\n",
    "            \n",
    "            score[\"win\"]+=1\n",
    "        else:\n",
    "            score[\"loose\"]+=1\n",
    "        \n",
    "    return score, data_X, data_y"
   ]
  },
  {
   "cell_type": "code",
   "execution_count": 14,
   "metadata": {},
   "outputs": [
    {
     "name": "stdout",
     "output_type": "stream",
     "text": [
      "Player1: papel Player2 (modelo): [ 0.14636809  0.14044832  0.88290292] --> tijeras\n",
      "Comprobamos: p1 VS p2: 2\n",
      "[[0, 0, 1]]\n",
      "[[0, 1, 0]]\n",
      "Score: {'win': 1, 'loose': 0} 100.0 %\n"
     ]
    }
   ],
   "source": [
    "score, data_X, data_y = play_and_learn(1, debug=True)\n",
    "print(data_X)\n",
    "print(data_y)\n",
    "print(\"Score: %s %s %%\" % (score, (score[\"win\"]*100/(score[\"win\"]+score[\"loose\"]))))\n",
    "if len(data_X):\n",
    "    model = model.partial_fit(data_X, data_y)"
   ]
  },
  {
   "cell_type": "markdown",
   "metadata": {},
   "source": []
  },
  {
   "cell_type": "code",
   "execution_count": 15,
   "metadata": {},
   "outputs": [
    {
     "name": "stdout",
     "output_type": "stream",
     "text": [
      "Iter: 1 - score: {'win': 557, 'loose': 443} 55.7 %\n",
      "Iter: 2 - score: {'win': 534, 'loose': 466} 53.4 %\n",
      "Iter: 3 - score: {'win': 538, 'loose': 462} 53.8 %\n",
      "Iter: 4 - score: {'win': 539, 'loose': 461} 53.9 %\n",
      "Iter: 5 - score: {'win': 569, 'loose': 431} 56.9 %\n",
      "Iter: 6 - score: {'win': 548, 'loose': 452} 54.8 %\n",
      "Iter: 7 - score: {'win': 323, 'loose': 677} 32.3 %\n",
      "Iter: 8 - score: {'win': 361, 'loose': 639} 36.1 %\n",
      "Iter: 9 - score: {'win': 325, 'loose': 675} 32.5 %\n",
      "Iter: 10 - score: {'win': 327, 'loose': 673} 32.7 %\n",
      "Iter: 11 - score: {'win': 308, 'loose': 692} 30.8 %\n",
      "Iter: 12 - score: {'win': 363, 'loose': 637} 36.3 %\n",
      "Iter: 13 - score: {'win': 331, 'loose': 669} 33.1 %\n",
      "Iter: 14 - score: {'win': 358, 'loose': 642} 35.8 %\n",
      "Iter: 15 - score: {'win': 338, 'loose': 662} 33.8 %\n",
      "Iter: 16 - score: {'win': 336, 'loose': 664} 33.6 %\n",
      "Iter: 17 - score: {'win': 331, 'loose': 669} 33.1 %\n",
      "Iter: 18 - score: {'win': 334, 'loose': 666} 33.4 %\n",
      "Iter: 19 - score: {'win': 298, 'loose': 702} 29.8 %\n",
      "Iter: 20 - score: {'win': 311, 'loose': 689} 31.1 %\n",
      "Iter: 21 - score: {'win': 298, 'loose': 702} 29.8 %\n",
      "Iter: 22 - score: {'win': 315, 'loose': 685} 31.5 %\n",
      "Iter: 23 - score: {'win': 342, 'loose': 658} 34.2 %\n",
      "Iter: 24 - score: {'win': 314, 'loose': 686} 31.4 %\n",
      "Iter: 25 - score: {'win': 344, 'loose': 656} 34.4 %\n",
      "Iter: 26 - score: {'win': 350, 'loose': 650} 35.0 %\n",
      "Iter: 27 - score: {'win': 321, 'loose': 679} 32.1 %\n",
      "Iter: 28 - score: {'win': 380, 'loose': 620} 38.0 %\n",
      "Iter: 29 - score: {'win': 320, 'loose': 680} 32.0 %\n",
      "Iter: 30 - score: {'win': 322, 'loose': 678} 32.2 %\n",
      "Iter: 31 - score: {'win': 325, 'loose': 675} 32.5 %\n",
      "Iter: 32 - score: {'win': 323, 'loose': 677} 32.3 %\n",
      "Iter: 33 - score: {'win': 366, 'loose': 634} 36.6 %\n",
      "Iter: 34 - score: {'win': 315, 'loose': 685} 31.5 %\n",
      "Iter: 35 - score: {'win': 337, 'loose': 663} 33.7 %\n",
      "Iter: 36 - score: {'win': 338, 'loose': 662} 33.8 %\n",
      "Iter: 37 - score: {'win': 338, 'loose': 662} 33.8 %\n",
      "Iter: 38 - score: {'win': 338, 'loose': 662} 33.8 %\n",
      "Iter: 39 - score: {'win': 347, 'loose': 653} 34.7 %\n",
      "Iter: 40 - score: {'win': 343, 'loose': 657} 34.3 %\n",
      "Iter: 41 - score: {'win': 346, 'loose': 654} 34.6 %\n",
      "Iter: 42 - score: {'win': 315, 'loose': 685} 31.5 %\n",
      "Iter: 43 - score: {'win': 349, 'loose': 651} 34.9 %\n",
      "Iter: 44 - score: {'win': 329, 'loose': 671} 32.9 %\n",
      "Iter: 45 - score: {'win': 323, 'loose': 677} 32.3 %\n",
      "Iter: 46 - score: {'win': 330, 'loose': 670} 33.0 %\n",
      "Iter: 47 - score: {'win': 341, 'loose': 659} 34.1 %\n",
      "Iter: 48 - score: {'win': 313, 'loose': 687} 31.3 %\n",
      "Iter: 49 - score: {'win': 354, 'loose': 646} 35.4 %\n",
      "Iter: 50 - score: {'win': 325, 'loose': 675} 32.5 %\n",
      "Iter: 51 - score: {'win': 350, 'loose': 650} 35.0 %\n",
      "Iter: 52 - score: {'win': 333, 'loose': 667} 33.3 %\n",
      "Iter: 53 - score: {'win': 338, 'loose': 662} 33.8 %\n",
      "Iter: 54 - score: {'win': 348, 'loose': 652} 34.8 %\n",
      "Iter: 55 - score: {'win': 336, 'loose': 664} 33.6 %\n",
      "Iter: 56 - score: {'win': 348, 'loose': 652} 34.8 %\n",
      "Iter: 57 - score: {'win': 335, 'loose': 665} 33.5 %\n",
      "Iter: 58 - score: {'win': 327, 'loose': 673} 32.7 %\n",
      "Iter: 59 - score: {'win': 346, 'loose': 654} 34.6 %\n",
      "Iter: 60 - score: {'win': 329, 'loose': 671} 32.9 %\n",
      "Iter: 61 - score: {'win': 342, 'loose': 658} 34.2 %\n",
      "Iter: 62 - score: {'win': 344, 'loose': 656} 34.4 %\n",
      "Iter: 63 - score: {'win': 363, 'loose': 637} 36.3 %\n",
      "Iter: 64 - score: {'win': 342, 'loose': 658} 34.2 %\n",
      "Iter: 65 - score: {'win': 318, 'loose': 682} 31.8 %\n",
      "Iter: 66 - score: {'win': 336, 'loose': 664} 33.6 %\n",
      "Iter: 67 - score: {'win': 332, 'loose': 668} 33.2 %\n",
      "Iter: 68 - score: {'win': 325, 'loose': 675} 32.5 %\n",
      "Iter: 69 - score: {'win': 328, 'loose': 672} 32.8 %\n",
      "Iter: 70 - score: {'win': 317, 'loose': 683} 31.7 %\n",
      "Iter: 71 - score: {'win': 335, 'loose': 665} 33.5 %\n",
      "Iter: 72 - score: {'win': 339, 'loose': 661} 33.9 %\n",
      "Iter: 73 - score: {'win': 310, 'loose': 690} 31.0 %\n",
      "Iter: 74 - score: {'win': 322, 'loose': 678} 32.2 %\n",
      "Iter: 75 - score: {'win': 297, 'loose': 703} 29.7 %\n",
      "Iter: 76 - score: {'win': 321, 'loose': 679} 32.1 %\n",
      "Iter: 77 - score: {'win': 321, 'loose': 679} 32.1 %\n",
      "Iter: 78 - score: {'win': 324, 'loose': 676} 32.4 %\n",
      "Iter: 79 - score: {'win': 331, 'loose': 669} 33.1 %\n",
      "Iter: 80 - score: {'win': 325, 'loose': 675} 32.5 %\n",
      "Iter: 81 - score: {'win': 337, 'loose': 663} 33.7 %\n",
      "Iter: 82 - score: {'win': 332, 'loose': 668} 33.2 %\n",
      "Iter: 83 - score: {'win': 332, 'loose': 668} 33.2 %\n",
      "Iter: 84 - score: {'win': 341, 'loose': 659} 34.1 %\n",
      "Iter: 85 - score: {'win': 336, 'loose': 664} 33.6 %\n",
      "Iter: 86 - score: {'win': 330, 'loose': 670} 33.0 %\n",
      "Iter: 87 - score: {'win': 352, 'loose': 648} 35.2 %\n",
      "Iter: 88 - score: {'win': 356, 'loose': 644} 35.6 %\n",
      "Iter: 89 - score: {'win': 318, 'loose': 682} 31.8 %\n",
      "Iter: 90 - score: {'win': 327, 'loose': 673} 32.7 %\n",
      "Iter: 91 - score: {'win': 320, 'loose': 680} 32.0 %\n",
      "Iter: 92 - score: {'win': 334, 'loose': 666} 33.4 %\n",
      "Iter: 93 - score: {'win': 341, 'loose': 659} 34.1 %\n",
      "Iter: 94 - score: {'win': 337, 'loose': 663} 33.7 %\n",
      "Iter: 95 - score: {'win': 340, 'loose': 660} 34.0 %\n",
      "Iter: 96 - score: {'win': 327, 'loose': 673} 32.7 %\n",
      "Iter: 97 - score: {'win': 325, 'loose': 675} 32.5 %\n",
      "Iter: 98 - score: {'win': 360, 'loose': 640} 36.0 %\n",
      "Iter: 99 - score: {'win': 329, 'loose': 671} 32.9 %\n",
      "Iter: 100 - score: {'win': 320, 'loose': 680} 32.0 %\n",
      "Iter: 101 - score: {'win': 326, 'loose': 674} 32.6 %\n",
      "Iter: 102 - score: {'win': 333, 'loose': 667} 33.3 %\n",
      "Iter: 103 - score: {'win': 337, 'loose': 663} 33.7 %\n",
      "Iter: 104 - score: {'win': 327, 'loose': 673} 32.7 %\n",
      "Iter: 105 - score: {'win': 343, 'loose': 657} 34.3 %\n",
      "Iter: 106 - score: {'win': 314, 'loose': 686} 31.4 %\n",
      "Iter: 107 - score: {'win': 322, 'loose': 678} 32.2 %\n",
      "Iter: 108 - score: {'win': 325, 'loose': 675} 32.5 %\n",
      "Iter: 109 - score: {'win': 334, 'loose': 666} 33.4 %\n",
      "Iter: 110 - score: {'win': 316, 'loose': 684} 31.6 %\n",
      "Iter: 111 - score: {'win': 380, 'loose': 620} 38.0 %\n",
      "Iter: 112 - score: {'win': 336, 'loose': 664} 33.6 %\n",
      "Iter: 113 - score: {'win': 339, 'loose': 661} 33.9 %\n",
      "Iter: 114 - score: {'win': 336, 'loose': 664} 33.6 %\n",
      "Iter: 115 - score: {'win': 331, 'loose': 669} 33.1 %\n",
      "Iter: 116 - score: {'win': 326, 'loose': 674} 32.6 %\n",
      "Iter: 117 - score: {'win': 372, 'loose': 628} 37.2 %\n",
      "Iter: 118 - score: {'win': 336, 'loose': 664} 33.6 %\n",
      "Iter: 119 - score: {'win': 355, 'loose': 645} 35.5 %\n",
      "Iter: 120 - score: {'win': 338, 'loose': 662} 33.8 %\n",
      "Iter: 121 - score: {'win': 328, 'loose': 672} 32.8 %\n",
      "Iter: 122 - score: {'win': 349, 'loose': 651} 34.9 %\n",
      "Iter: 123 - score: {'win': 329, 'loose': 671} 32.9 %\n",
      "Iter: 124 - score: {'win': 344, 'loose': 656} 34.4 %\n",
      "Iter: 125 - score: {'win': 344, 'loose': 656} 34.4 %\n",
      "Iter: 126 - score: {'win': 340, 'loose': 660} 34.0 %\n",
      "Iter: 127 - score: {'win': 326, 'loose': 674} 32.6 %\n",
      "Iter: 128 - score: {'win': 359, 'loose': 641} 35.9 %\n",
      "Iter: 129 - score: {'win': 339, 'loose': 661} 33.9 %\n",
      "Iter: 130 - score: {'win': 330, 'loose': 670} 33.0 %\n",
      "Iter: 131 - score: {'win': 330, 'loose': 670} 33.0 %\n",
      "Iter: 132 - score: {'win': 344, 'loose': 656} 34.4 %\n",
      "Iter: 133 - score: {'win': 335, 'loose': 665} 33.5 %\n",
      "Iter: 134 - score: {'win': 314, 'loose': 686} 31.4 %\n",
      "Iter: 135 - score: {'win': 337, 'loose': 663} 33.7 %\n",
      "Iter: 136 - score: {'win': 358, 'loose': 642} 35.8 %\n",
      "Iter: 137 - score: {'win': 301, 'loose': 699} 30.1 %\n",
      "Iter: 138 - score: {'win': 341, 'loose': 659} 34.1 %\n",
      "Iter: 139 - score: {'win': 323, 'loose': 677} 32.3 %\n",
      "Iter: 140 - score: {'win': 321, 'loose': 679} 32.1 %\n",
      "Iter: 141 - score: {'win': 360, 'loose': 640} 36.0 %\n",
      "Iter: 142 - score: {'win': 342, 'loose': 658} 34.2 %\n",
      "Iter: 143 - score: {'win': 317, 'loose': 683} 31.7 %\n",
      "Iter: 144 - score: {'win': 333, 'loose': 667} 33.3 %\n",
      "Iter: 145 - score: {'win': 315, 'loose': 685} 31.5 %\n",
      "Iter: 146 - score: {'win': 314, 'loose': 686} 31.4 %\n",
      "Iter: 147 - score: {'win': 320, 'loose': 680} 32.0 %\n",
      "Iter: 148 - score: {'win': 589, 'loose': 411} 58.9 %\n",
      "Iter: 149 - score: {'win': 567, 'loose': 433} 56.7 %\n",
      "Iter: 150 - score: {'win': 560, 'loose': 440} 56.0 %\n",
      "Iter: 151 - score: {'win': 551, 'loose': 449} 55.1 %\n",
      "Iter: 152 - score: {'win': 553, 'loose': 447} 55.3 %\n",
      "Iter: 153 - score: {'win': 561, 'loose': 439} 56.1 %\n",
      "Iter: 154 - score: {'win': 572, 'loose': 428} 57.2 %\n",
      "Iter: 155 - score: {'win': 572, 'loose': 428} 57.2 %\n",
      "Iter: 156 - score: {'win': 558, 'loose': 442} 55.8 %\n",
      "Iter: 157 - score: {'win': 554, 'loose': 446} 55.4 %\n",
      "Iter: 158 - score: {'win': 564, 'loose': 436} 56.4 %\n",
      "Iter: 159 - score: {'win': 557, 'loose': 443} 55.7 %\n"
     ]
    },
    {
     "name": "stdout",
     "output_type": "stream",
     "text": [
      "Iter: 160 - score: {'win': 577, 'loose': 423} 57.7 %\n",
      "Iter: 161 - score: {'win': 552, 'loose': 448} 55.2 %\n",
      "Iter: 162 - score: {'win': 547, 'loose': 453} 54.7 %\n",
      "Iter: 163 - score: {'win': 536, 'loose': 464} 53.6 %\n",
      "Iter: 164 - score: {'win': 773, 'loose': 227} 77.3 %\n",
      "Iter: 165 - score: {'win': 791, 'loose': 209} 79.1 %\n",
      "Iter: 166 - score: {'win': 778, 'loose': 222} 77.8 %\n",
      "Iter: 167 - score: {'win': 778, 'loose': 222} 77.8 %\n",
      "Iter: 168 - score: {'win': 773, 'loose': 227} 77.3 %\n",
      "Iter: 169 - score: {'win': 782, 'loose': 218} 78.2 %\n",
      "Iter: 170 - score: {'win': 770, 'loose': 230} 77.0 %\n",
      "Iter: 171 - score: {'win': 783, 'loose': 217} 78.3 %\n",
      "Iter: 172 - score: {'win': 783, 'loose': 217} 78.3 %\n",
      "Iter: 173 - score: {'win': 772, 'loose': 228} 77.2 %\n",
      "Iter: 174 - score: {'win': 769, 'loose': 231} 76.9 %\n",
      "Iter: 175 - score: {'win': 774, 'loose': 226} 77.4 %\n",
      "Iter: 176 - score: {'win': 769, 'loose': 231} 76.9 %\n",
      "Iter: 177 - score: {'win': 786, 'loose': 214} 78.6 %\n",
      "Iter: 178 - score: {'win': 755, 'loose': 245} 75.5 %\n",
      "Iter: 179 - score: {'win': 765, 'loose': 235} 76.5 %\n",
      "Iter: 180 - score: {'win': 775, 'loose': 225} 77.5 %\n",
      "Iter: 181 - score: {'win': 780, 'loose': 220} 78.0 %\n",
      "Iter: 182 - score: {'win': 774, 'loose': 226} 77.4 %\n",
      "Iter: 183 - score: {'win': 771, 'loose': 229} 77.1 %\n",
      "Iter: 184 - score: {'win': 793, 'loose': 207} 79.3 %\n",
      "Iter: 185 - score: {'win': 771, 'loose': 229} 77.1 %\n",
      "Iter: 186 - score: {'win': 795, 'loose': 205} 79.5 %\n",
      "Iter: 187 - score: {'win': 778, 'loose': 222} 77.8 %\n",
      "Iter: 188 - score: {'win': 800, 'loose': 200} 80.0 %\n",
      "Iter: 189 - score: {'win': 784, 'loose': 216} 78.4 %\n",
      "Iter: 190 - score: {'win': 778, 'loose': 222} 77.8 %\n",
      "Iter: 191 - score: {'win': 758, 'loose': 242} 75.8 %\n",
      "Iter: 192 - score: {'win': 768, 'loose': 232} 76.8 %\n",
      "Iter: 193 - score: {'win': 780, 'loose': 220} 78.0 %\n",
      "Iter: 194 - score: {'win': 770, 'loose': 230} 77.0 %\n",
      "Iter: 195 - score: {'win': 775, 'loose': 225} 77.5 %\n",
      "Iter: 196 - score: {'win': 799, 'loose': 201} 79.9 %\n",
      "Iter: 197 - score: {'win': 761, 'loose': 239} 76.1 %\n",
      "Iter: 198 - score: {'win': 808, 'loose': 192} 80.8 %\n",
      "Iter: 199 - score: {'win': 750, 'loose': 250} 75.0 %\n",
      "Iter: 200 - score: {'win': 770, 'loose': 230} 77.0 %\n",
      "Iter: 201 - score: {'win': 1000, 'loose': 0} 100.0 %\n",
      "Iter: 202 - score: {'win': 1000, 'loose': 0} 100.0 %\n",
      "Iter: 203 - score: {'win': 1000, 'loose': 0} 100.0 %\n",
      "Iter: 204 - score: {'win': 1000, 'loose': 0} 100.0 %\n",
      "Iter: 205 - score: {'win': 1000, 'loose': 0} 100.0 %\n",
      "Iter: 206 - score: {'win': 1000, 'loose': 0} 100.0 %\n",
      "Iter: 207 - score: {'win': 1000, 'loose': 0} 100.0 %\n",
      "Iter: 208 - score: {'win': 1000, 'loose': 0} 100.0 %\n",
      "Iter: 209 - score: {'win': 1000, 'loose': 0} 100.0 %\n"
     ]
    }
   ],
   "source": [
    "i = 0\n",
    "historic_pct = []\n",
    "while True:\n",
    "    i+=1\n",
    "    score, data_X, data_y = play_and_learn(1000, debug=False)\n",
    "    pct = (score[\"win\"]*100/(score[\"win\"]+score[\"loose\"]))\n",
    "    historic_pct.append(pct)\n",
    "    print(\"Iter: %s - score: %s %s %%\" % (i, score, pct))\n",
    "    \n",
    "    if len(data_X):\n",
    "        model = model.partial_fit(data_X, data_y)\n",
    "    \n",
    "    if sum(historic_pct[-9:])==900:\n",
    "        break"
   ]
  },
  {
   "cell_type": "code",
   "execution_count": 16,
   "metadata": {},
   "outputs": [
    {
     "data": {
      "text/html": [
       "\n",
       "    <div class=\"bk-root\">\n",
       "        <a href=\"https://bokeh.pydata.org\" target=\"_blank\" class=\"bk-logo bk-logo-small bk-logo-notebook\"></a>\n",
       "        <span id=\"f7c47d12-92e9-4bb7-98fb-0c0262de7fe5\">Loading BokehJS ...</span>\n",
       "    </div>"
      ]
     },
     "metadata": {},
     "output_type": "display_data"
    },
    {
     "data": {
      "application/javascript": [
       "\n",
       "(function(root) {\n",
       "  function now() {\n",
       "    return new Date();\n",
       "  }\n",
       "\n",
       "  var force = true;\n",
       "\n",
       "  if (typeof (root._bokeh_onload_callbacks) === \"undefined\" || force === true) {\n",
       "    root._bokeh_onload_callbacks = [];\n",
       "    root._bokeh_is_loading = undefined;\n",
       "  }\n",
       "\n",
       "  var JS_MIME_TYPE = 'application/javascript';\n",
       "  var HTML_MIME_TYPE = 'text/html';\n",
       "  var EXEC_MIME_TYPE = 'application/vnd.bokehjs_exec.v0+json';\n",
       "  var CLASS_NAME = 'output_bokeh rendered_html';\n",
       "\n",
       "  /**\n",
       "   * Render data to the DOM node\n",
       "   */\n",
       "  function render(props, node) {\n",
       "    var script = document.createElement(\"script\");\n",
       "    node.appendChild(script);\n",
       "  }\n",
       "\n",
       "  /**\n",
       "   * Handle when an output is cleared or removed\n",
       "   */\n",
       "  function handleClearOutput(event, handle) {\n",
       "    var cell = handle.cell;\n",
       "\n",
       "    var id = cell.output_area._bokeh_element_id;\n",
       "    var server_id = cell.output_area._bokeh_server_id;\n",
       "    // Clean up Bokeh references\n",
       "    if (id !== undefined) {\n",
       "      Bokeh.index[id].model.document.clear();\n",
       "      delete Bokeh.index[id];\n",
       "    }\n",
       "\n",
       "    if (server_id !== undefined) {\n",
       "      // Clean up Bokeh references\n",
       "      var cmd = \"from bokeh.io.state import curstate; print(curstate().uuid_to_server['\" + server_id + \"'].get_sessions()[0].document.roots[0]._id)\";\n",
       "      cell.notebook.kernel.execute(cmd, {\n",
       "        iopub: {\n",
       "          output: function(msg) {\n",
       "            var element_id = msg.content.text.trim();\n",
       "            Bokeh.index[element_id].model.document.clear();\n",
       "            delete Bokeh.index[element_id];\n",
       "          }\n",
       "        }\n",
       "      });\n",
       "      // Destroy server and session\n",
       "      var cmd = \"import bokeh.io.notebook as ion; ion.destroy_server('\" + server_id + \"')\";\n",
       "      cell.notebook.kernel.execute(cmd);\n",
       "    }\n",
       "  }\n",
       "\n",
       "  /**\n",
       "   * Handle when a new output is added\n",
       "   */\n",
       "  function handleAddOutput(event, handle) {\n",
       "    var output_area = handle.output_area;\n",
       "    var output = handle.output;\n",
       "\n",
       "    // limit handleAddOutput to display_data with EXEC_MIME_TYPE content only\n",
       "    if ((output.output_type != \"display_data\") || (!output.data.hasOwnProperty(EXEC_MIME_TYPE))) {\n",
       "      return\n",
       "    }\n",
       "\n",
       "    var toinsert = output_area.element.find(`.${CLASS_NAME.split(' ')[0]}`);\n",
       "\n",
       "    if (output.metadata[EXEC_MIME_TYPE][\"id\"] !== undefined) {\n",
       "      toinsert[0].firstChild.textContent = output.data[JS_MIME_TYPE];\n",
       "      // store reference to embed id on output_area\n",
       "      output_area._bokeh_element_id = output.metadata[EXEC_MIME_TYPE][\"id\"];\n",
       "    }\n",
       "    if (output.metadata[EXEC_MIME_TYPE][\"server_id\"] !== undefined) {\n",
       "      var bk_div = document.createElement(\"div\");\n",
       "      bk_div.innerHTML = output.data[HTML_MIME_TYPE];\n",
       "      var script_attrs = bk_div.children[0].attributes;\n",
       "      for (var i = 0; i < script_attrs.length; i++) {\n",
       "        toinsert[0].firstChild.setAttribute(script_attrs[i].name, script_attrs[i].value);\n",
       "      }\n",
       "      // store reference to server id on output_area\n",
       "      output_area._bokeh_server_id = output.metadata[EXEC_MIME_TYPE][\"server_id\"];\n",
       "    }\n",
       "  }\n",
       "\n",
       "  function register_renderer(events, OutputArea) {\n",
       "\n",
       "    function append_mime(data, metadata, element) {\n",
       "      // create a DOM node to render to\n",
       "      var toinsert = this.create_output_subarea(\n",
       "        metadata,\n",
       "        CLASS_NAME,\n",
       "        EXEC_MIME_TYPE\n",
       "      );\n",
       "      this.keyboard_manager.register_events(toinsert);\n",
       "      // Render to node\n",
       "      var props = {data: data, metadata: metadata[EXEC_MIME_TYPE]};\n",
       "      render(props, toinsert[0]);\n",
       "      element.append(toinsert);\n",
       "      return toinsert\n",
       "    }\n",
       "\n",
       "    /* Handle when an output is cleared or removed */\n",
       "    events.on('clear_output.CodeCell', handleClearOutput);\n",
       "    events.on('delete.Cell', handleClearOutput);\n",
       "\n",
       "    /* Handle when a new output is added */\n",
       "    events.on('output_added.OutputArea', handleAddOutput);\n",
       "\n",
       "    /**\n",
       "     * Register the mime type and append_mime function with output_area\n",
       "     */\n",
       "    OutputArea.prototype.register_mime_type(EXEC_MIME_TYPE, append_mime, {\n",
       "      /* Is output safe? */\n",
       "      safe: true,\n",
       "      /* Index of renderer in `output_area.display_order` */\n",
       "      index: 0\n",
       "    });\n",
       "  }\n",
       "\n",
       "  // register the mime type if in Jupyter Notebook environment and previously unregistered\n",
       "  if (root.Jupyter !== undefined) {\n",
       "    var events = require('base/js/events');\n",
       "    var OutputArea = require('notebook/js/outputarea').OutputArea;\n",
       "\n",
       "    if (OutputArea.prototype.mime_types().indexOf(EXEC_MIME_TYPE) == -1) {\n",
       "      register_renderer(events, OutputArea);\n",
       "    }\n",
       "  }\n",
       "\n",
       "  \n",
       "  if (typeof (root._bokeh_timeout) === \"undefined\" || force === true) {\n",
       "    root._bokeh_timeout = Date.now() + 5000;\n",
       "    root._bokeh_failed_load = false;\n",
       "  }\n",
       "\n",
       "  var NB_LOAD_WARNING = {'data': {'text/html':\n",
       "     \"<div style='background-color: #fdd'>\\n\"+\n",
       "     \"<p>\\n\"+\n",
       "     \"BokehJS does not appear to have successfully loaded. If loading BokehJS from CDN, this \\n\"+\n",
       "     \"may be due to a slow or bad network connection. Possible fixes:\\n\"+\n",
       "     \"</p>\\n\"+\n",
       "     \"<ul>\\n\"+\n",
       "     \"<li>re-rerun `output_notebook()` to attempt to load from CDN again, or</li>\\n\"+\n",
       "     \"<li>use INLINE resources instead, as so:</li>\\n\"+\n",
       "     \"</ul>\\n\"+\n",
       "     \"<code>\\n\"+\n",
       "     \"from bokeh.resources import INLINE\\n\"+\n",
       "     \"output_notebook(resources=INLINE)\\n\"+\n",
       "     \"</code>\\n\"+\n",
       "     \"</div>\"}};\n",
       "\n",
       "  function display_loaded() {\n",
       "    var el = document.getElementById(\"f7c47d12-92e9-4bb7-98fb-0c0262de7fe5\");\n",
       "    if (el != null) {\n",
       "      el.textContent = \"BokehJS is loading...\";\n",
       "    }\n",
       "    if (root.Bokeh !== undefined) {\n",
       "      if (el != null) {\n",
       "        el.textContent = \"BokehJS \" + root.Bokeh.version + \" successfully loaded.\";\n",
       "      }\n",
       "    } else if (Date.now() < root._bokeh_timeout) {\n",
       "      setTimeout(display_loaded, 100)\n",
       "    }\n",
       "  }\n",
       "\n",
       "\n",
       "  function run_callbacks() {\n",
       "    try {\n",
       "      root._bokeh_onload_callbacks.forEach(function(callback) { callback() });\n",
       "    }\n",
       "    finally {\n",
       "      delete root._bokeh_onload_callbacks\n",
       "    }\n",
       "    console.info(\"Bokeh: all callbacks have finished\");\n",
       "  }\n",
       "\n",
       "  function load_libs(js_urls, callback) {\n",
       "    root._bokeh_onload_callbacks.push(callback);\n",
       "    if (root._bokeh_is_loading > 0) {\n",
       "      console.log(\"Bokeh: BokehJS is being loaded, scheduling callback at\", now());\n",
       "      return null;\n",
       "    }\n",
       "    if (js_urls == null || js_urls.length === 0) {\n",
       "      run_callbacks();\n",
       "      return null;\n",
       "    }\n",
       "    console.log(\"Bokeh: BokehJS not loaded, scheduling load and callback at\", now());\n",
       "    root._bokeh_is_loading = js_urls.length;\n",
       "    for (var i = 0; i < js_urls.length; i++) {\n",
       "      var url = js_urls[i];\n",
       "      var s = document.createElement('script');\n",
       "      s.src = url;\n",
       "      s.async = false;\n",
       "      s.onreadystatechange = s.onload = function() {\n",
       "        root._bokeh_is_loading--;\n",
       "        if (root._bokeh_is_loading === 0) {\n",
       "          console.log(\"Bokeh: all BokehJS libraries loaded\");\n",
       "          run_callbacks()\n",
       "        }\n",
       "      };\n",
       "      s.onerror = function() {\n",
       "        console.warn(\"failed to load library \" + url);\n",
       "      };\n",
       "      console.log(\"Bokeh: injecting script tag for BokehJS library: \", url);\n",
       "      document.getElementsByTagName(\"head\")[0].appendChild(s);\n",
       "    }\n",
       "  };var element = document.getElementById(\"f7c47d12-92e9-4bb7-98fb-0c0262de7fe5\");\n",
       "  if (element == null) {\n",
       "    console.log(\"Bokeh: ERROR: autoload.js configured with elementid 'f7c47d12-92e9-4bb7-98fb-0c0262de7fe5' but no matching script tag was found. \")\n",
       "    return false;\n",
       "  }\n",
       "\n",
       "  var js_urls = [\"https://cdn.pydata.org/bokeh/release/bokeh-0.12.10.min.js\", \"https://cdn.pydata.org/bokeh/release/bokeh-widgets-0.12.10.min.js\", \"https://cdn.pydata.org/bokeh/release/bokeh-tables-0.12.10.min.js\", \"https://cdn.pydata.org/bokeh/release/bokeh-gl-0.12.10.min.js\"];\n",
       "\n",
       "  var inline_js = [\n",
       "    function(Bokeh) {\n",
       "      Bokeh.set_log_level(\"info\");\n",
       "    },\n",
       "    \n",
       "    function(Bokeh) {\n",
       "      \n",
       "    },\n",
       "    function(Bokeh) {\n",
       "      console.log(\"Bokeh: injecting CSS: https://cdn.pydata.org/bokeh/release/bokeh-0.12.10.min.css\");\n",
       "      Bokeh.embed.inject_css(\"https://cdn.pydata.org/bokeh/release/bokeh-0.12.10.min.css\");\n",
       "      console.log(\"Bokeh: injecting CSS: https://cdn.pydata.org/bokeh/release/bokeh-widgets-0.12.10.min.css\");\n",
       "      Bokeh.embed.inject_css(\"https://cdn.pydata.org/bokeh/release/bokeh-widgets-0.12.10.min.css\");\n",
       "      console.log(\"Bokeh: injecting CSS: https://cdn.pydata.org/bokeh/release/bokeh-tables-0.12.10.min.css\");\n",
       "      Bokeh.embed.inject_css(\"https://cdn.pydata.org/bokeh/release/bokeh-tables-0.12.10.min.css\");\n",
       "    }\n",
       "  ];\n",
       "\n",
       "  function run_inline_js() {\n",
       "    \n",
       "    if ((root.Bokeh !== undefined) || (force === true)) {\n",
       "      for (var i = 0; i < inline_js.length; i++) {\n",
       "        inline_js[i].call(root, root.Bokeh);\n",
       "      }if (force === true) {\n",
       "        display_loaded();\n",
       "      }} else if (Date.now() < root._bokeh_timeout) {\n",
       "      setTimeout(run_inline_js, 100);\n",
       "    } else if (!root._bokeh_failed_load) {\n",
       "      console.log(\"Bokeh: BokehJS failed to load within specified timeout.\");\n",
       "      root._bokeh_failed_load = true;\n",
       "    } else if (force !== true) {\n",
       "      var cell = $(document.getElementById(\"f7c47d12-92e9-4bb7-98fb-0c0262de7fe5\")).parents('.cell').data().cell;\n",
       "      cell.output_area.append_execute_result(NB_LOAD_WARNING)\n",
       "    }\n",
       "\n",
       "  }\n",
       "\n",
       "  if (root._bokeh_is_loading === 0) {\n",
       "    console.log(\"Bokeh: BokehJS loaded, going straight to plotting\");\n",
       "    run_inline_js();\n",
       "  } else {\n",
       "    load_libs(js_urls, function() {\n",
       "      console.log(\"Bokeh: BokehJS plotting callback run at\", now());\n",
       "      run_inline_js();\n",
       "    });\n",
       "  }\n",
       "}(window));"
      ],
      "application/vnd.bokehjs_load.v0+json": "\n(function(root) {\n  function now() {\n    return new Date();\n  }\n\n  var force = true;\n\n  if (typeof (root._bokeh_onload_callbacks) === \"undefined\" || force === true) {\n    root._bokeh_onload_callbacks = [];\n    root._bokeh_is_loading = undefined;\n  }\n\n  \n\n  \n  if (typeof (root._bokeh_timeout) === \"undefined\" || force === true) {\n    root._bokeh_timeout = Date.now() + 5000;\n    root._bokeh_failed_load = false;\n  }\n\n  var NB_LOAD_WARNING = {'data': {'text/html':\n     \"<div style='background-color: #fdd'>\\n\"+\n     \"<p>\\n\"+\n     \"BokehJS does not appear to have successfully loaded. If loading BokehJS from CDN, this \\n\"+\n     \"may be due to a slow or bad network connection. Possible fixes:\\n\"+\n     \"</p>\\n\"+\n     \"<ul>\\n\"+\n     \"<li>re-rerun `output_notebook()` to attempt to load from CDN again, or</li>\\n\"+\n     \"<li>use INLINE resources instead, as so:</li>\\n\"+\n     \"</ul>\\n\"+\n     \"<code>\\n\"+\n     \"from bokeh.resources import INLINE\\n\"+\n     \"output_notebook(resources=INLINE)\\n\"+\n     \"</code>\\n\"+\n     \"</div>\"}};\n\n  function display_loaded() {\n    var el = document.getElementById(\"f7c47d12-92e9-4bb7-98fb-0c0262de7fe5\");\n    if (el != null) {\n      el.textContent = \"BokehJS is loading...\";\n    }\n    if (root.Bokeh !== undefined) {\n      if (el != null) {\n        el.textContent = \"BokehJS \" + root.Bokeh.version + \" successfully loaded.\";\n      }\n    } else if (Date.now() < root._bokeh_timeout) {\n      setTimeout(display_loaded, 100)\n    }\n  }\n\n\n  function run_callbacks() {\n    try {\n      root._bokeh_onload_callbacks.forEach(function(callback) { callback() });\n    }\n    finally {\n      delete root._bokeh_onload_callbacks\n    }\n    console.info(\"Bokeh: all callbacks have finished\");\n  }\n\n  function load_libs(js_urls, callback) {\n    root._bokeh_onload_callbacks.push(callback);\n    if (root._bokeh_is_loading > 0) {\n      console.log(\"Bokeh: BokehJS is being loaded, scheduling callback at\", now());\n      return null;\n    }\n    if (js_urls == null || js_urls.length === 0) {\n      run_callbacks();\n      return null;\n    }\n    console.log(\"Bokeh: BokehJS not loaded, scheduling load and callback at\", now());\n    root._bokeh_is_loading = js_urls.length;\n    for (var i = 0; i < js_urls.length; i++) {\n      var url = js_urls[i];\n      var s = document.createElement('script');\n      s.src = url;\n      s.async = false;\n      s.onreadystatechange = s.onload = function() {\n        root._bokeh_is_loading--;\n        if (root._bokeh_is_loading === 0) {\n          console.log(\"Bokeh: all BokehJS libraries loaded\");\n          run_callbacks()\n        }\n      };\n      s.onerror = function() {\n        console.warn(\"failed to load library \" + url);\n      };\n      console.log(\"Bokeh: injecting script tag for BokehJS library: \", url);\n      document.getElementsByTagName(\"head\")[0].appendChild(s);\n    }\n  };var element = document.getElementById(\"f7c47d12-92e9-4bb7-98fb-0c0262de7fe5\");\n  if (element == null) {\n    console.log(\"Bokeh: ERROR: autoload.js configured with elementid 'f7c47d12-92e9-4bb7-98fb-0c0262de7fe5' but no matching script tag was found. \")\n    return false;\n  }\n\n  var js_urls = [\"https://cdn.pydata.org/bokeh/release/bokeh-0.12.10.min.js\", \"https://cdn.pydata.org/bokeh/release/bokeh-widgets-0.12.10.min.js\", \"https://cdn.pydata.org/bokeh/release/bokeh-tables-0.12.10.min.js\", \"https://cdn.pydata.org/bokeh/release/bokeh-gl-0.12.10.min.js\"];\n\n  var inline_js = [\n    function(Bokeh) {\n      Bokeh.set_log_level(\"info\");\n    },\n    \n    function(Bokeh) {\n      \n    },\n    function(Bokeh) {\n      console.log(\"Bokeh: injecting CSS: https://cdn.pydata.org/bokeh/release/bokeh-0.12.10.min.css\");\n      Bokeh.embed.inject_css(\"https://cdn.pydata.org/bokeh/release/bokeh-0.12.10.min.css\");\n      console.log(\"Bokeh: injecting CSS: https://cdn.pydata.org/bokeh/release/bokeh-widgets-0.12.10.min.css\");\n      Bokeh.embed.inject_css(\"https://cdn.pydata.org/bokeh/release/bokeh-widgets-0.12.10.min.css\");\n      console.log(\"Bokeh: injecting CSS: https://cdn.pydata.org/bokeh/release/bokeh-tables-0.12.10.min.css\");\n      Bokeh.embed.inject_css(\"https://cdn.pydata.org/bokeh/release/bokeh-tables-0.12.10.min.css\");\n    }\n  ];\n\n  function run_inline_js() {\n    \n    if ((root.Bokeh !== undefined) || (force === true)) {\n      for (var i = 0; i < inline_js.length; i++) {\n        inline_js[i].call(root, root.Bokeh);\n      }if (force === true) {\n        display_loaded();\n      }} else if (Date.now() < root._bokeh_timeout) {\n      setTimeout(run_inline_js, 100);\n    } else if (!root._bokeh_failed_load) {\n      console.log(\"Bokeh: BokehJS failed to load within specified timeout.\");\n      root._bokeh_failed_load = true;\n    } else if (force !== true) {\n      var cell = $(document.getElementById(\"f7c47d12-92e9-4bb7-98fb-0c0262de7fe5\")).parents('.cell').data().cell;\n      cell.output_area.append_execute_result(NB_LOAD_WARNING)\n    }\n\n  }\n\n  if (root._bokeh_is_loading === 0) {\n    console.log(\"Bokeh: BokehJS loaded, going straight to plotting\");\n    run_inline_js();\n  } else {\n    load_libs(js_urls, function() {\n      console.log(\"Bokeh: BokehJS plotting callback run at\", now());\n      run_inline_js();\n    });\n  }\n}(window));"
     },
     "metadata": {},
     "output_type": "display_data"
    }
   ],
   "source": [
    "\n",
    "\n",
    "from bokeh.plotting import figure, show\n",
    "from bokeh.io import push_notebook, show, output_notebook\n",
    "output_notebook()"
   ]
  },
  {
   "cell_type": "code",
   "execution_count": 17,
   "metadata": {},
   "outputs": [
    {
     "data": {
      "text/html": [
       "\n",
       "<div class=\"bk-root\">\n",
       "    <div class=\"bk-plotdiv\" id=\"b9ae0699-2b1a-44df-8f61-6f1d8124c9d0\"></div>\n",
       "</div>"
      ]
     },
     "metadata": {},
     "output_type": "display_data"
    },
    {
     "data": {
      "application/javascript": [
       "(function(root) {\n",
       "  function embed_document(root) {\n",
       "    var docs_json = {\"ee422129-fec3-47c9-8f0d-1134538cdc17\":{\"roots\":{\"references\":[{\"attributes\":{},\"id\":\"d769e93c-6416-43b3-bbc1-958467505e46\",\"type\":\"SaveTool\"},{\"attributes\":{},\"id\":\"e69620ab-6c8b-403d-b3e7-b73105c76b7b\",\"type\":\"ResetTool\"},{\"attributes\":{\"axis_label\":\"Iter\",\"formatter\":{\"id\":\"af8fc8df-84cb-4fdb-b6fd-65f071c87279\",\"type\":\"BasicTickFormatter\"},\"plot\":{\"id\":\"76cb62ee-d155-447f-bbe1-d81c31e689a0\",\"subtype\":\"Figure\",\"type\":\"Plot\"},\"ticker\":{\"id\":\"49a496bb-121e-4ff2-90dc-be9d43868808\",\"type\":\"BasicTicker\"}},\"id\":\"8ac3af21-c879-429b-a0d2-7bc1bad993a5\",\"type\":\"LinearAxis\"},{\"attributes\":{},\"id\":\"5923ca7c-f768-4e92-a60d-0f577aee6a8e\",\"type\":\"HelpTool\"},{\"attributes\":{},\"id\":\"49a496bb-121e-4ff2-90dc-be9d43868808\",\"type\":\"BasicTicker\"},{\"attributes\":{\"plot\":{\"id\":\"76cb62ee-d155-447f-bbe1-d81c31e689a0\",\"subtype\":\"Figure\",\"type\":\"Plot\"},\"ticker\":{\"id\":\"49a496bb-121e-4ff2-90dc-be9d43868808\",\"type\":\"BasicTicker\"}},\"id\":\"2e8bba7d-68a0-4bf7-b45d-0ac5feefc234\",\"type\":\"Grid\"},{\"attributes\":{\"axis_label\":\"%\",\"formatter\":{\"id\":\"a150538a-a8b8-4857-8b9d-9d193d4328be\",\"type\":\"BasicTickFormatter\"},\"plot\":{\"id\":\"76cb62ee-d155-447f-bbe1-d81c31e689a0\",\"subtype\":\"Figure\",\"type\":\"Plot\"},\"ticker\":{\"id\":\"27cee4ba-ce10-4f48-8f49-372781e552d2\",\"type\":\"BasicTicker\"}},\"id\":\"e48d3423-d4f8-4e3f-9486-448c7348466c\",\"type\":\"LinearAxis\"},{\"attributes\":{},\"id\":\"af8fc8df-84cb-4fdb-b6fd-65f071c87279\",\"type\":\"BasicTickFormatter\"},{\"attributes\":{},\"id\":\"27cee4ba-ce10-4f48-8f49-372781e552d2\",\"type\":\"BasicTicker\"},{\"attributes\":{},\"id\":\"a150538a-a8b8-4857-8b9d-9d193d4328be\",\"type\":\"BasicTickFormatter\"},{\"attributes\":{\"dimension\":1,\"plot\":{\"id\":\"76cb62ee-d155-447f-bbe1-d81c31e689a0\",\"subtype\":\"Figure\",\"type\":\"Plot\"},\"ticker\":{\"id\":\"27cee4ba-ce10-4f48-8f49-372781e552d2\",\"type\":\"BasicTicker\"}},\"id\":\"f544af5e-0334-4cd7-a973-c9185526d745\",\"type\":\"Grid\"},{\"attributes\":{\"source\":{\"id\":\"4f1ce5e8-5a5c-43a0-9347-d002d9a8ed17\",\"type\":\"ColumnDataSource\"}},\"id\":\"5bfa63aa-d0c7-4080-9bfb-c0d60b87a0c9\",\"type\":\"CDSView\"},{\"attributes\":{\"callback\":null,\"column_names\":[\"x\",\"y\"],\"data\":{\"x\":[0,1,2,3,4,5,6,7,8,9,10,11,12,13,14,15,16,17,18,19,20,21,22,23,24,25,26,27,28,29,30,31,32,33,34,35,36,37,38,39,40,41,42,43,44,45,46,47,48,49,50,51,52,53,54,55,56,57,58,59,60,61,62,63,64,65,66,67,68,69,70,71,72,73,74,75,76,77,78,79,80,81,82,83,84,85,86,87,88,89,90,91,92,93,94,95,96,97,98,99,100,101,102,103,104,105,106,107,108,109,110,111,112,113,114,115,116,117,118,119,120,121,122,123,124,125,126,127,128,129,130,131,132,133,134,135,136,137,138,139,140,141,142,143,144,145,146,147,148,149,150,151,152,153,154,155,156,157,158,159,160,161,162,163,164,165,166,167,168,169,170,171,172,173,174,175,176,177,178,179,180,181,182,183,184,185,186,187,188,189,190,191,192,193,194,195,196,197,198,199,200,201,202,203,204,205,206,207,208],\"y\":[55.7,53.4,53.8,53.9,56.9,54.8,32.3,36.1,32.5,32.7,30.8,36.3,33.1,35.8,33.8,33.6,33.1,33.4,29.8,31.1,29.8,31.5,34.2,31.4,34.4,35.0,32.1,38.0,32.0,32.2,32.5,32.3,36.6,31.5,33.7,33.8,33.8,33.8,34.7,34.3,34.6,31.5,34.9,32.9,32.3,33.0,34.1,31.3,35.4,32.5,35.0,33.3,33.8,34.8,33.6,34.8,33.5,32.7,34.6,32.9,34.2,34.4,36.3,34.2,31.8,33.6,33.2,32.5,32.8,31.7,33.5,33.9,31.0,32.2,29.7,32.1,32.1,32.4,33.1,32.5,33.7,33.2,33.2,34.1,33.6,33.0,35.2,35.6,31.8,32.7,32.0,33.4,34.1,33.7,34.0,32.7,32.5,36.0,32.9,32.0,32.6,33.3,33.7,32.7,34.3,31.4,32.2,32.5,33.4,31.6,38.0,33.6,33.9,33.6,33.1,32.6,37.2,33.6,35.5,33.8,32.8,34.9,32.9,34.4,34.4,34.0,32.6,35.9,33.9,33.0,33.0,34.4,33.5,31.4,33.7,35.8,30.1,34.1,32.3,32.1,36.0,34.2,31.7,33.3,31.5,31.4,32.0,58.9,56.7,56.0,55.1,55.3,56.1,57.2,57.2,55.8,55.4,56.4,55.7,57.7,55.2,54.7,53.6,77.3,79.1,77.8,77.8,77.3,78.2,77.0,78.3,78.3,77.2,76.9,77.4,76.9,78.6,75.5,76.5,77.5,78.0,77.4,77.1,79.3,77.1,79.5,77.8,80.0,78.4,77.8,75.8,76.8,78.0,77.0,77.5,79.9,76.1,80.8,75.0,77.0,100.0,100.0,100.0,100.0,100.0,100.0,100.0,100.0,100.0]}},\"id\":\"4f1ce5e8-5a5c-43a0-9347-d002d9a8ed17\",\"type\":\"ColumnDataSource\"},{\"attributes\":{\"below\":[{\"id\":\"8ac3af21-c879-429b-a0d2-7bc1bad993a5\",\"type\":\"LinearAxis\"}],\"left\":[{\"id\":\"e48d3423-d4f8-4e3f-9486-448c7348466c\",\"type\":\"LinearAxis\"}],\"plot_width\":900,\"renderers\":[{\"id\":\"8ac3af21-c879-429b-a0d2-7bc1bad993a5\",\"type\":\"LinearAxis\"},{\"id\":\"2e8bba7d-68a0-4bf7-b45d-0ac5feefc234\",\"type\":\"Grid\"},{\"id\":\"e48d3423-d4f8-4e3f-9486-448c7348466c\",\"type\":\"LinearAxis\"},{\"id\":\"f544af5e-0334-4cd7-a973-c9185526d745\",\"type\":\"Grid\"},{\"id\":\"b7f40b36-0b8b-4e8b-88c9-651cf19a6101\",\"type\":\"BoxAnnotation\"},{\"id\":\"9ffd6ff5-4c4b-4387-926e-213897eb9441\",\"type\":\"GlyphRenderer\"}],\"title\":{\"id\":\"b1aa0027-49cd-44f5-a80d-c96396232c5d\",\"type\":\"Title\"},\"toolbar\":{\"id\":\"1b548858-705e-45e2-90ad-38a0e8414dd8\",\"type\":\"Toolbar\"},\"x_range\":{\"id\":\"bbc3f24f-3ed1-418b-8a50-9881dad5ca79\",\"type\":\"DataRange1d\"},\"x_scale\":{\"id\":\"0953788a-9720-4bbf-b251-2e0c0b7a1728\",\"type\":\"LinearScale\"},\"y_range\":{\"id\":\"f2a04197-0986-41b9-b45f-3309f396aa35\",\"type\":\"DataRange1d\"},\"y_scale\":{\"id\":\"ebee1dec-1b27-4831-98ea-15fe0cd59211\",\"type\":\"LinearScale\"}},\"id\":\"76cb62ee-d155-447f-bbe1-d81c31e689a0\",\"subtype\":\"Figure\",\"type\":\"Plot\"},{\"attributes\":{\"line_alpha\":{\"value\":0.1},\"line_color\":{\"value\":\"#1f77b4\"},\"x\":{\"field\":\"x\"},\"y\":{\"field\":\"y\"}},\"id\":\"bb1d8081-fe66-455c-8e7b-91c69317db1f\",\"type\":\"Line\"},{\"attributes\":{\"bottom_units\":\"screen\",\"fill_alpha\":{\"value\":0.5},\"fill_color\":{\"value\":\"lightgrey\"},\"left_units\":\"screen\",\"level\":\"overlay\",\"line_alpha\":{\"value\":1.0},\"line_color\":{\"value\":\"black\"},\"line_dash\":[4,4],\"line_width\":{\"value\":2},\"plot\":null,\"render_mode\":\"css\",\"right_units\":\"screen\",\"top_units\":\"screen\"},\"id\":\"b7f40b36-0b8b-4e8b-88c9-651cf19a6101\",\"type\":\"BoxAnnotation\"},{\"attributes\":{\"plot\":null,\"text\":\"Porcetaje de aprendizaje en cada iteraci\\u00f3n\"},\"id\":\"b1aa0027-49cd-44f5-a80d-c96396232c5d\",\"type\":\"Title\"},{\"attributes\":{\"line_color\":{\"value\":\"#1f77b4\"},\"x\":{\"field\":\"x\"},\"y\":{\"field\":\"y\"}},\"id\":\"ae7901a2-68a6-4fd9-8c22-0b972f2c4f56\",\"type\":\"Line\"},{\"attributes\":{\"callback\":null},\"id\":\"bbc3f24f-3ed1-418b-8a50-9881dad5ca79\",\"type\":\"DataRange1d\"},{\"attributes\":{\"active_drag\":\"auto\",\"active_inspect\":\"auto\",\"active_scroll\":\"auto\",\"active_tap\":\"auto\",\"tools\":[{\"id\":\"15c50895-b41e-467d-a29b-194f6267c948\",\"type\":\"PanTool\"},{\"id\":\"cfae203d-6610-4433-a705-215310887ca3\",\"type\":\"WheelZoomTool\"},{\"id\":\"d7a8ed27-9120-4943-80b9-7f676afffd3e\",\"type\":\"BoxZoomTool\"},{\"id\":\"d769e93c-6416-43b3-bbc1-958467505e46\",\"type\":\"SaveTool\"},{\"id\":\"e69620ab-6c8b-403d-b3e7-b73105c76b7b\",\"type\":\"ResetTool\"},{\"id\":\"5923ca7c-f768-4e92-a60d-0f577aee6a8e\",\"type\":\"HelpTool\"}]},\"id\":\"1b548858-705e-45e2-90ad-38a0e8414dd8\",\"type\":\"Toolbar\"},{\"attributes\":{},\"id\":\"15c50895-b41e-467d-a29b-194f6267c948\",\"type\":\"PanTool\"},{\"attributes\":{},\"id\":\"0953788a-9720-4bbf-b251-2e0c0b7a1728\",\"type\":\"LinearScale\"},{\"attributes\":{\"data_source\":{\"id\":\"4f1ce5e8-5a5c-43a0-9347-d002d9a8ed17\",\"type\":\"ColumnDataSource\"},\"glyph\":{\"id\":\"ae7901a2-68a6-4fd9-8c22-0b972f2c4f56\",\"type\":\"Line\"},\"hover_glyph\":null,\"muted_glyph\":null,\"nonselection_glyph\":{\"id\":\"bb1d8081-fe66-455c-8e7b-91c69317db1f\",\"type\":\"Line\"},\"selection_glyph\":null,\"view\":{\"id\":\"5bfa63aa-d0c7-4080-9bfb-c0d60b87a0c9\",\"type\":\"CDSView\"}},\"id\":\"9ffd6ff5-4c4b-4387-926e-213897eb9441\",\"type\":\"GlyphRenderer\"},{\"attributes\":{\"overlay\":{\"id\":\"b7f40b36-0b8b-4e8b-88c9-651cf19a6101\",\"type\":\"BoxAnnotation\"}},\"id\":\"d7a8ed27-9120-4943-80b9-7f676afffd3e\",\"type\":\"BoxZoomTool\"},{\"attributes\":{\"callback\":null},\"id\":\"f2a04197-0986-41b9-b45f-3309f396aa35\",\"type\":\"DataRange1d\"},{\"attributes\":{},\"id\":\"cfae203d-6610-4433-a705-215310887ca3\",\"type\":\"WheelZoomTool\"},{\"attributes\":{},\"id\":\"ebee1dec-1b27-4831-98ea-15fe0cd59211\",\"type\":\"LinearScale\"}],\"root_ids\":[\"76cb62ee-d155-447f-bbe1-d81c31e689a0\"]},\"title\":\"Bokeh Application\",\"version\":\"0.12.10\"}};\n",
       "    var render_items = [{\"docid\":\"ee422129-fec3-47c9-8f0d-1134538cdc17\",\"elementid\":\"b9ae0699-2b1a-44df-8f61-6f1d8124c9d0\",\"modelid\":\"76cb62ee-d155-447f-bbe1-d81c31e689a0\"}];\n",
       "\n",
       "    root.Bokeh.embed.embed_items(docs_json, render_items);\n",
       "  }\n",
       "\n",
       "  if (root.Bokeh !== undefined) {\n",
       "    embed_document(root);\n",
       "  } else {\n",
       "    var attempts = 0;\n",
       "    var timer = setInterval(function(root) {\n",
       "      if (root.Bokeh !== undefined) {\n",
       "        embed_document(root);\n",
       "        clearInterval(timer);\n",
       "      }\n",
       "      attempts++;\n",
       "      if (attempts > 100) {\n",
       "        console.log(\"Bokeh: ERROR: Unable to embed document because BokehJS library is missing\")\n",
       "        clearInterval(timer);\n",
       "      }\n",
       "    }, 10, root)\n",
       "  }\n",
       "})(window);"
      ],
      "application/vnd.bokehjs_exec.v0+json": ""
     },
     "metadata": {
      "application/vnd.bokehjs_exec.v0+json": {
       "id": "76cb62ee-d155-447f-bbe1-d81c31e689a0"
      }
     },
     "output_type": "display_data"
    }
   ],
   "source": [
    "x = range(len(historic_pct))\n",
    "y = historic_pct\n",
    "\n",
    "p = figure(\n",
    "    title=\"Porcetaje de aprendizaje en cada iteración\",\n",
    "    x_axis_label=\"Iter\", y_axis_label=\"%\", width=900)\n",
    "\n",
    "p.line(x, y, legend=None, line_width=1)\n",
    "show(p)"
   ]
  },
  {
   "cell_type": "code",
   "execution_count": 18,
   "metadata": {},
   "outputs": [
    {
     "data": {
      "text/plain": [
       "array([[ 0.00634374,  0.00956034,  0.98551249]])"
      ]
     },
     "execution_count": 18,
     "metadata": {},
     "output_type": "execute_result"
    }
   ],
   "source": [
    "\n",
    "\n",
    "model.predict_proba([str_to_list(\"piedra\")])\n",
    "\n"
   ]
  },
  {
   "cell_type": "code",
   "execution_count": null,
   "metadata": {},
   "outputs": [],
   "source": []
  }
 ],
 "metadata": {
  "kernelspec": {
   "display_name": "Python 3",
   "language": "python",
   "name": "python3"
  },
  "language_info": {
   "codemirror_mode": {
    "name": "ipython",
    "version": 3
   },
   "file_extension": ".py",
   "mimetype": "text/x-python",
   "name": "python",
   "nbconvert_exporter": "python",
   "pygments_lexer": "ipython3",
   "version": "3.6.3"
  }
 },
 "nbformat": 4,
 "nbformat_minor": 2
}
